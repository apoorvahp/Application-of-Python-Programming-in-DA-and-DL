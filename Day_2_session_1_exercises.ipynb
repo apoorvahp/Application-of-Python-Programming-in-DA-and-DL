{
  "nbformat": 4,
  "nbformat_minor": 0,
  "metadata": {
    "colab": {
      "name": "Day 2  session 1  exercises.ipynb",
      "provenance": [],
      "include_colab_link": true
    },
    "kernelspec": {
      "name": "python3",
      "display_name": "Python 3"
    }
  },
  "cells": [
    {
      "cell_type": "markdown",
      "metadata": {
        "id": "view-in-github",
        "colab_type": "text"
      },
      "source": [
        "<a href=\"https://colab.research.google.com/github/ashaapoorva/Application-of-Python-Programming-in-DA-and-DL/blob/master/Day_2_session_1_exercises.ipynb\" target=\"_parent\"><img src=\"https://colab.research.google.com/assets/colab-badge.svg\" alt=\"Open In Colab\"/></a>"
      ]
    },
    {
      "cell_type": "markdown",
      "metadata": {
        "id": "XRzfWdpCkLBX",
        "colab_type": "text"
      },
      "source": [
        "#print multiples of 3 upto 200 using a list"
      ]
    },
    {
      "cell_type": "code",
      "metadata": {
        "id": "qBoffeoEepxR",
        "colab_type": "code",
        "outputId": "2b2b82a0-c1bd-42d5-89b4-130ba1be66be",
        "colab": {
          "base_uri": "https://localhost:8080/",
          "height": 54
        }
      },
      "source": [
        "print([i for i in range(1,200) if i%3==0])"
      ],
      "execution_count": 0,
      "outputs": [
        {
          "output_type": "stream",
          "text": [
            "[3, 6, 9, 12, 15, 18, 21, 24, 27, 30, 33, 36, 39, 42, 45, 48, 51, 54, 57, 60, 63, 66, 69, 72, 75, 78, 81, 84, 87, 90, 93, 96, 99, 102, 105, 108, 111, 114, 117, 120, 123, 126, 129, 132, 135, 138, 141, 144, 147, 150, 153, 156, 159, 162, 165, 168, 171, 174, 177, 180, 183, 186, 189, 192, 195, 198]\n"
          ],
          "name": "stdout"
        }
      ]
    },
    {
      "cell_type": "markdown",
      "metadata": {
        "id": "jr3yc9oFkrOC",
        "colab_type": "text"
      },
      "source": [
        "#print the nos only divisable by 5 and 7 between 1000 and 2000 using a list( both inclusive)"
      ]
    },
    {
      "cell_type": "code",
      "metadata": {
        "id": "9Fz5w365kran",
        "colab_type": "code",
        "outputId": "daca175b-287b-4869-b0f3-40fe54985092",
        "colab": {
          "base_uri": "https://localhost:8080/",
          "height": 54
        }
      },
      "source": [
        "print([i for i in range(1000,2001) if i%5==0 and i%7==0])\n"
      ],
      "execution_count": 0,
      "outputs": [
        {
          "output_type": "stream",
          "text": [
            "[1015, 1050, 1085, 1120, 1155, 1190, 1225, 1260, 1295, 1330, 1365, 1400, 1435, 1470, 1505, 1540, 1575, 1610, 1645, 1680, 1715, 1750, 1785, 1820, 1855, 1890, 1925, 1960, 1995]\n"
          ],
          "name": "stdout"
        }
      ]
    },
    {
      "cell_type": "markdown",
      "metadata": {
        "id": "8HrpUyZ1lsvR",
        "colab_type": "text"
      },
      "source": [
        "#Add the n number of names in a list and print them alphabetically and reverse alphabetically."
      ]
    },
    {
      "cell_type": "code",
      "metadata": {
        "id": "98ngd4m3ls6t",
        "colab_type": "code",
        "outputId": "e366e73d-4ed4-4f13-ebae-e07c690e45e8",
        "colab": {
          "base_uri": "https://localhost:8080/",
          "height": 153
        }
      },
      "source": [
        "a=[input() for i in range(int(input(\"Enter The N Value: \")))]\n",
        "a.sort()\n",
        "print(a)\n",
        "print(a[-1::-1])"
      ],
      "execution_count": 0,
      "outputs": [
        {
          "output_type": "stream",
          "text": [
            "Enter The N Value: 5\n",
            "shrinivas\n",
            "kunder\n",
            "alvas\n",
            "mijar\n",
            "udupi\n",
            "['alvas', 'kunder', 'mijar', 'shrinivas', 'udupi']\n",
            "['udupi', 'shrinivas', 'mijar', 'kunder', 'alvas']\n"
          ],
          "name": "stdout"
        }
      ]
    },
    {
      "cell_type": "markdown",
      "metadata": {
        "id": "GGRG3Y-1nPBW",
        "colab_type": "text"
      },
      "source": [
        "#Print  perfect squares and divisible by 5 between 500 and 1000( (both inclusive) using list"
      ]
    },
    {
      "cell_type": "code",
      "metadata": {
        "id": "bls8TwVknPZF",
        "colab_type": "code",
        "outputId": "3e8885a4-3c5c-447c-8f9f-fb4242058d85",
        "colab": {
          "base_uri": "https://localhost:8080/",
          "height": 34
        }
      },
      "source": [
        "import math\n",
        "print([i for i in range(500,1001) if math.sqrt(i)==int(math.sqrt(i)) and i%5==0])"
      ],
      "execution_count": 0,
      "outputs": [
        {
          "output_type": "stream",
          "text": [
            "[625, 900]\n"
          ],
          "name": "stdout"
        }
      ]
    },
    {
      "cell_type": "markdown",
      "metadata": {
        "id": "uvawAVD7qids",
        "colab_type": "text"
      },
      "source": [
        "#Get  a string and store word by word as elements in a tuple and find the largest word in the  tuple and print it"
      ]
    },
    {
      "cell_type": "code",
      "metadata": {
        "id": "Q5bygJKFqiqa",
        "colab_type": "code",
        "outputId": "9d27539f-cb41-4838-c690-cee4e1cb0d89",
        "colab": {
          "base_uri": "https://localhost:8080/",
          "height": 68
        }
      },
      "source": [
        "s=input(\"Enter The String: \")\n",
        "a=s.split(\" \")\n",
        "print(tuple(a))\n",
        "print(max(tuple(a)))"
      ],
      "execution_count": 0,
      "outputs": [
        {
          "output_type": "stream",
          "text": [
            "Enter The String: shrinivas kunder\n",
            "('shrinivas', 'kunder')\n",
            "shrinivas\n"
          ],
          "name": "stdout"
        }
      ]
    },
    {
      "cell_type": "markdown",
      "metadata": {
        "id": "ZZV2PeWZuMVq",
        "colab_type": "text"
      },
      "source": [
        "#Get rollno and marks (Rollno, mark) as list of tuples for n number of students through keyboard  and print them in marks descending order with rollno."
      ]
    },
    {
      "cell_type": "code",
      "metadata": {
        "id": "2JKWC0XwuMlf",
        "colab_type": "code",
        "outputId": "a3c64561-86b5-4f0e-b79f-bd9e21e0f853",
        "colab": {
          "base_uri": "https://localhost:8080/",
          "height": 153
        }
      },
      "source": [
        "import operator\n",
        "d={}\n",
        "for i in range(int(input(\"Enter The Number Of Students: \"))):\n",
        "  n=input(f\"Enter The Roll Number Of Student-{i+1}: \")\n",
        "  d[n]=int(input(f\"Enter The Marks Of Student-{i+1}: \"))\n",
        "print(list(sorted(d.items(), key=operator.itemgetter(1), reverse=True)))\n",
        "\n"
      ],
      "execution_count": 0,
      "outputs": [
        {
          "output_type": "stream",
          "text": [
            "Enter The Number Of Students: 3\n",
            "Enter The Roll Number Of Student-1: 1\n",
            "Enter The Marks Of Student-1: 96\n",
            "Enter The Roll Number Of Student-2: 2\n",
            "Enter The Marks Of Student-2: 88\n",
            "Enter The Roll Number Of Student-3: 3\n",
            "Enter The Marks Of Student-3: 94\n",
            "[('1', 96), ('3', 94), ('2', 88)]\n"
          ],
          "name": "stdout"
        }
      ]
    },
    {
      "cell_type": "markdown",
      "metadata": {
        "id": "HOUVQ78L0q-s",
        "colab_type": "text"
      },
      "source": [
        "#Get name and salary (name, salary) as list of tuples for n number of employees through keyboard  and print them in name alphabetical order with salary"
      ]
    },
    {
      "cell_type": "code",
      "metadata": {
        "id": "K9L1IKs-0rL_",
        "colab_type": "code",
        "outputId": "e3f84e00-807e-4fc8-b9d5-088ea94968de",
        "colab": {
          "base_uri": "https://localhost:8080/",
          "height": 153
        }
      },
      "source": [
        "import operator\n",
        "d={}\n",
        "for i in range(int(input(\"Enter The Number Of Students: \"))):\n",
        "  n=input(f\"Enter The Name Of Employee-{i+1}: \")\n",
        "  d[n]=int(input(f\"Enter The Salary Of Employee-{i+1}: \"))\n",
        "print(list(sorted(d.items(), key=operator.itemgetter(0))))"
      ],
      "execution_count": 0,
      "outputs": [
        {
          "output_type": "stream",
          "text": [
            "Enter The Number Of Students: 3\n",
            "Enter The Name Of Employee-1: Shrinivas\n",
            "Enter The Salary Of Employee-1: 20000\n",
            "Enter The Name Of Employee-2: Kunder\n",
            "Enter The Salary Of Employee-2: 30000\n",
            "Enter The Name Of Employee-3: Pratham\n",
            "Enter The Salary Of Employee-3: 60000\n",
            "[('Kunder', 30000), ('Pratham', 60000), ('Shrinivas', 20000)]\n"
          ],
          "name": "stdout"
        }
      ]
    }
  ]
}