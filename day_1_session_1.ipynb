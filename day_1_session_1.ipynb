{
  "nbformat": 4,
  "nbformat_minor": 0,
  "metadata": {
    "colab": {
      "name": "day 1 session 1.ipynb",
      "provenance": [],
      "authorship_tag": "ABX9TyO3C7YQb2e6s32opSCwsmGs",
      "include_colab_link": true
    },
    "kernelspec": {
      "name": "python3",
      "display_name": "Python 3"
    }
  },
  "cells": [
    {
      "cell_type": "markdown",
      "metadata": {
        "id": "view-in-github",
        "colab_type": "text"
      },
      "source": [
        "<a href=\"https://colab.research.google.com/github/ashaapoorva/Application-of-Python-Programming-in-DA-and-DL/blob/master/day_1_session_1.ipynb\" target=\"_parent\"><img src=\"https://colab.research.google.com/assets/colab-badge.svg\" alt=\"Open In Colab\"/></a>"
      ]
    },
    {
      "cell_type": "markdown",
      "metadata": {
        "id": "rjf8rX3XePVx",
        "colab_type": "text"
      },
      "source": [
        "Find the compound interest for the given p,n,r (formula : p(1+n*r/100)n)\n"
      ]
    },
    {
      "cell_type": "code",
      "metadata": {
        "id": "SxwayNA9b_Ze",
        "colab_type": "code",
        "outputId": "d3310672-6a7d-4840-bb78-37c1c33da45a",
        "colab": {
          "base_uri": "https://localhost:8080/",
          "height": 84
        }
      },
      "source": [
        "def compound_interest(principle, rate, time): \n",
        "  CI = principle * (pow((1 + rate / 100), time)) \n",
        "  print(\"Compound interest is\", CI) \n",
        "p=int(input(\"enter p value: \"))\n",
        "n=int(input(\"enter n value: \"))\n",
        "r=float(input(\"enter r value: \"))\n",
        "compound_interest(p, r, n)"
      ],
      "execution_count": 4,
      "outputs": [
        {
          "output_type": "stream",
          "text": [
            "enter p value: 1200\n",
            "enter n value: 2\n",
            "enter r value: 5.4\n",
            "Compound interest is 1333.0992\n"
          ],
          "name": "stdout"
        }
      ]
    },
    {
      "cell_type": "markdown",
      "metadata": {
        "id": "NdtZ6QqHfVFf",
        "colab_type": "text"
      },
      "source": [
        "Convert centegrade to farenheit ( f= 9/5*c+32)"
      ]
    },
    {
      "cell_type": "code",
      "metadata": {
        "id": "lK37Lcmefi2A",
        "colab_type": "code",
        "colab": {
          "base_uri": "https://localhost:8080/",
          "height": 50
        },
        "outputId": "db6e90e8-7d4c-42e8-abf9-54269e044acc"
      },
      "source": [
        "celsius = float(input(\"Enter temperature in celsius: \"))\n",
        "fahrenheit = (celsius * 9/5) + 32\n",
        "print('%.2f Celsius is: %0.2f Fahrenheit' %(celsius, fahrenheit))"
      ],
      "execution_count": 5,
      "outputs": [
        {
          "output_type": "stream",
          "text": [
            "Enter temperature in celsius: 37\n",
            "37.00 Celsius is: 98.60 Fahrenheit\n"
          ],
          "name": "stdout"
        }
      ]
    },
    {
      "cell_type": "markdown",
      "metadata": {
        "id": "O3476F3nf5by",
        "colab_type": "text"
      },
      "source": [
        "Find the greater of two nos"
      ]
    },
    {
      "cell_type": "code",
      "metadata": {
        "id": "ooVkLE8BgAUy",
        "colab_type": "code",
        "colab": {
          "base_uri": "https://localhost:8080/",
          "height": 84
        },
        "outputId": "312590e9-0b29-44fb-c12c-32c52ce5fb54"
      },
      "source": [
        "a=int(input(\"enter a num : \"))\n",
        "b=int(input(\"enter a num : \"))\n",
        "print(\"greater num is : \")\n",
        "if(a>b):\n",
        " print(a)\n",
        "else:\n",
        " print(b)"
      ],
      "execution_count": 6,
      "outputs": [
        {
          "output_type": "stream",
          "text": [
            "enter a num : 10\n",
            "enter a num : 100\n",
            "greater num is : \n",
            "100\n"
          ],
          "name": "stdout"
        }
      ]
    },
    {
      "cell_type": "markdown",
      "metadata": {
        "id": "1Th_gmb_gqR0",
        "colab_type": "text"
      },
      "source": [
        "Write a program for ¦nding surface areas of cylinder and cone"
      ]
    },
    {
      "cell_type": "code",
      "metadata": {
        "id": "hTqBi_Czg4G5",
        "colab_type": "code",
        "colab": {
          "base_uri": "https://localhost:8080/",
          "height": 84
        },
        "outputId": "8d3652e3-50f8-4621-8f21-54863eef509a"
      },
      "source": [
        "import math\n",
        "def Cylinder(r,h):\n",
        " return 2*math.pi*r*r*h\n",
        "def cone(r,h):\n",
        " return (1/3)*math.pi*r*r*h\n",
        "r=int(input(\"enter r value : \"))\n",
        "h=int(input(\"enter h value\"))\n",
        "print(\"surface area of cylinder is : %.2f\"%Cylinder(r,h))\n",
        "print(\"surface area of cone is : %.2f \"%cone(r,h))"
      ],
      "execution_count": 7,
      "outputs": [
        {
          "output_type": "stream",
          "text": [
            "enter r value : 5\n",
            "enter h value3\n",
            "surface area of cylinder is : 471.24\n",
            "surface area of cone is : 78.54 \n"
          ],
          "name": "stdout"
        }
      ]
    },
    {
      "cell_type": "markdown",
      "metadata": {
        "id": "sXg4szcchS_M",
        "colab_type": "text"
      },
      "source": [
        "Find the greatest of four nos ( using ‘and’ operator) using funct"
      ]
    },
    {
      "cell_type": "code",
      "metadata": {
        "id": "gzul6ecqhVtS",
        "colab_type": "code",
        "colab": {
          "base_uri": "https://localhost:8080/",
          "height": 118
        },
        "outputId": "f2ddf676-0e4b-4682-ce71-2b2a15d3ede1"
      },
      "source": [
        "a=int(input(\"enter 1st num: \"))\n",
        "b=int(input(\"enter 2nd num: \"))\n",
        "c=int(input(\"enter 3rd num: \"))\n",
        "d=int(input(\"enter 4th num: \"))\n",
        "print(\"greater num is : \")\n",
        "if(a>b and a>c and a>d):\n",
        " print(a)\n",
        "elif(b>c and b>d):\n",
        " print(b)\n",
        "elif(c>d):\n",
        " print(c)\n",
        "else:\n",
        " print(d)"
      ],
      "execution_count": 9,
      "outputs": [
        {
          "output_type": "stream",
          "text": [
            "enter 1st num: 5\n",
            "enter 2nd num: 8\n",
            "enter 3rd num: 7\n",
            "enter 4th num: 9\n",
            "greater num is : \n",
            "9\n"
          ],
          "name": "stdout"
        }
      ]
    },
    {
      "cell_type": "markdown",
      "metadata": {
        "id": "EZaYCXoVhxgt",
        "colab_type": "text"
      },
      "source": [
        "Write a menu program to perform the operations ( ODDorEven,\n",
        "PrimeUptoN ) using functions for two nos with menu choice"
      ]
    },
    {
      "cell_type": "code",
      "metadata": {
        "id": "2RRgVeZGh6CJ",
        "colab_type": "code",
        "colab": {
          "base_uri": "https://localhost:8080/",
          "height": 1000
        },
        "outputId": "de668614-a608-43ed-8ddb-deec9bccfd8b"
      },
      "source": [
        "loop = 1\n",
        "choice = 0\n",
        "def OddorEven(n):\n",
        "  if(n%2==0):\n",
        "    return True\n",
        "def fact(f):\n",
        "  s=1\n",
        "  while(f>0):\n",
        "    s=s*f\n",
        "    f=f-1\n",
        "  print(f\"Factorial Of {f} Is: {s}\")\n",
        "def Odd(o):\n",
        "  for i in range(o+1):\n",
        "    if(i%2 != 0):\n",
        "      print(i, end=' ')\n",
        "def prime(p):\n",
        "  c=0\n",
        "  print(2, end=' ')\n",
        "  for i in range(3,p+1):\n",
        "    for j in range(2,i):\n",
        "      if(i % j == 0):\n",
        "        c=1\n",
        "        break\n",
        "    if(c==0):\n",
        "      print(i, end=' ')\n",
        "    c=0\n",
        "\n",
        "while loop == 1:\n",
        "    print(\" \")\n",
        "    print (\"your options are:\")\n",
        "    print (\" \")\n",
        "    print(\"1) Odd or Even\")\n",
        "    print(\"2) Factorial\")\n",
        "    print(\"3) Odd Number Upto N\")\n",
        "    print(\"4) Prime Number upto N\")\n",
        "    print(\"5) Quit\")\n",
        "    print(\" \")\n",
        "    try:\n",
        "        choice = int(input(\"Choose your option: \"))\n",
        "    except:\n",
        "        print('please enter a valid number for option')\n",
        "    print(\" \")\n",
        "    if choice == 1:\n",
        "      n = int(input(\"Enter The Number: \"))\n",
        "      if(OddorEven(n)):\n",
        "        print(\"The Number Is Even\")\n",
        "      else:\n",
        "        print(\"The Number Is Odd\")\n",
        "    elif choice == 2:\n",
        "      f = int(input(\"Enter The Number: \"))\n",
        "      fact(f)\n",
        "    elif choice == 3:\n",
        "      o = int(input(\"Enter The Number: \"))\n",
        "      Odd(o)\n",
        "    elif choice == 4:\n",
        "      p = int(input(\"Enter The Number: \"))\n",
        "      prime(p)\n",
        "    elif choice == 5:\n",
        "      loop = 0\n",
        "    else:\n",
        "      print(\"please choice a valid option from 1 to 5\")\n",
        "      choice=0\n"
      ],
      "execution_count": 16,
      "outputs": [
        {
          "output_type": "stream",
          "text": [
            " \n",
            "your options are:\n",
            " \n",
            "1) Odd or Even\n",
            "2) Factorial\n",
            "3) Odd Number Upto N\n",
            "4) Prime Number upto N\n",
            "5) Quit\n",
            " \n",
            "Choose your option: 1\n",
            " \n",
            "Enter The Number: 2\n",
            "The Number Is Even\n",
            " \n",
            "your options are:\n",
            " \n",
            "1) Odd or Even\n",
            "2) Factorial\n",
            "3) Odd Number Upto N\n",
            "4) Prime Number upto N\n",
            "5) Quit\n",
            " \n",
            "Choose your option: 2\n",
            " \n",
            "Enter The Number: 4\n",
            "Factorial Of 0 Is: 24\n",
            " \n",
            "your options are:\n",
            " \n",
            "1) Odd or Even\n",
            "2) Factorial\n",
            "3) Odd Number Upto N\n",
            "4) Prime Number upto N\n",
            "5) Quit\n",
            " \n",
            "Choose your option: 3\n",
            " \n",
            "Enter The Number: 7\n",
            "1 3 5 7  \n",
            "your options are:\n",
            " \n",
            "1) Odd or Even\n",
            "2) Factorial\n",
            "3) Odd Number Upto N\n",
            "4) Prime Number upto N\n",
            "5) Quit\n",
            " \n",
            "Choose your option: 4\n",
            " \n",
            "Enter The Number: 5\n",
            "2 3 5  \n",
            "your options are:\n",
            " \n",
            "1) Odd or Even\n",
            "2) Factorial\n",
            "3) Odd Number Upto N\n",
            "4) Prime Number upto N\n",
            "5) Quit\n",
            " \n",
            "Choose your option: 5\n",
            " \n"
          ],
          "name": "stdout"
        }
      ]
    }
  ]
}